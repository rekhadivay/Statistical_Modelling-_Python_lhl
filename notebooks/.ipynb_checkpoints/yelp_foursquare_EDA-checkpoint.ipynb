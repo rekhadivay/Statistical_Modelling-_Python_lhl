{
 "cells": [
  {
   "cell_type": "code",
   "execution_count": 62,
   "metadata": {
    "tags": []
   },
   "outputs": [],
   "source": [
    "# imports\n",
    "import pandas as pd\n",
    "import numpy as np\n",
    "import requests\n",
    "import os\n",
    "import json"
   ]
  },
  {
   "cell_type": "code",
   "execution_count": 63,
   "metadata": {
    "tags": []
   },
   "outputs": [],
   "source": [
    "# Foursquare"
   ]
  },
  {
   "cell_type": "markdown",
   "metadata": {},
   "source": [
    "Send a request to Foursquare with a small radius (1000m) for all the bike stations in your city of choice. "
   ]
  },
  {
   "cell_type": "code",
   "execution_count": null,
   "metadata": {
    "tags": []
   },
   "outputs": [],
   "source": [
    "# Definining API key credentials\n",
    "API_KEY =os.environ.get(\"FOURSQUARE_API_KEY\")\n",
    "API_KEY"
   ]
  },
  {
   "cell_type": "code",
   "execution_count": 66,
   "metadata": {
    "tags": []
   },
   "outputs": [
    {
     "name": "stdout",
     "output_type": "stream",
     "text": [
      "     Station Name,Latitude,Longitude,Bikes Available\n",
      "0  Queen St E / Woodward Ave,43.665269,-79.319796,18\n",
      "1  Primrose Ave / Davenport Rd,43.67142,-79.445947,8\n",
      "2    Queen St E / Rhodes Ave,43.666224,-79.317693,15\n",
      "3        Bond St / Queen St E,43.653236,-79.376716,2\n",
      "4   Church St / Alexander St,43.663722,-79.380288,17\n"
     ]
    }
   ],
   "source": [
    "# importing result from citybikes API with all stations in Toronto\n",
    "df = pd.read_csv(r'C:\\Users\\rekha\\Downloads\\Bike_stations.csv', delimiter=';')\n",
    "print(df.head())"
   ]
  },
  {
   "cell_type": "code",
   "execution_count": 67,
   "metadata": {
    "tags": []
   },
   "outputs": [],
   "source": [
    "# converting Dataframe into json\n",
    "Bike_stations = df.to_json(orient='records')"
   ]
  },
  {
   "cell_type": "code",
   "execution_count": 68,
   "metadata": {
    "tags": []
   },
   "outputs": [],
   "source": [
    " # Defining API endpoint\n",
    "url = \"https://api.foursquare.com/v3/places/search\"\n",
    "\n",
    "# headers\n",
    "headers = {\"Accept\": \"application/json\",\n",
    "           \"Authorization\": API_KEY}"
   ]
  },
  {
   "cell_type": "code",
   "execution_count": 72,
   "metadata": {
    "tags": []
   },
   "outputs": [
    {
     "data": {
      "text/html": [
       "<div>\n",
       "<style scoped>\n",
       "    .dataframe tbody tr th:only-of-type {\n",
       "        vertical-align: middle;\n",
       "    }\n",
       "\n",
       "    .dataframe tbody tr th {\n",
       "        vertical-align: top;\n",
       "    }\n",
       "\n",
       "    .dataframe thead th {\n",
       "        text-align: right;\n",
       "    }\n",
       "</style>\n",
       "<table border=\"1\" class=\"dataframe\">\n",
       "  <thead>\n",
       "    <tr style=\"text-align: right;\">\n",
       "      <th></th>\n",
       "      <th>Station Name,Latitude,Longitude,Bikes Available</th>\n",
       "    </tr>\n",
       "  </thead>\n",
       "  <tbody>\n",
       "    <tr>\n",
       "      <th>0</th>\n",
       "      <td>Queen St E / Woodward Ave,43.665269,-79.319796,18</td>\n",
       "    </tr>\n",
       "    <tr>\n",
       "      <th>1</th>\n",
       "      <td>Primrose Ave / Davenport Rd,43.67142,-79.445947,8</td>\n",
       "    </tr>\n",
       "    <tr>\n",
       "      <th>2</th>\n",
       "      <td>Queen St E / Rhodes Ave,43.666224,-79.317693,15</td>\n",
       "    </tr>\n",
       "    <tr>\n",
       "      <th>3</th>\n",
       "      <td>Bond St / Queen St E,43.653236,-79.376716,2</td>\n",
       "    </tr>\n",
       "    <tr>\n",
       "      <th>4</th>\n",
       "      <td>Church St / Alexander St,43.663722,-79.380288,17</td>\n",
       "    </tr>\n",
       "    <tr>\n",
       "      <th>...</th>\n",
       "      <td>...</td>\n",
       "    </tr>\n",
       "    <tr>\n",
       "      <th>754</th>\n",
       "      <td>Opposite 1103 Leslie St,43.72093164598881,-79....</td>\n",
       "    </tr>\n",
       "    <tr>\n",
       "      <th>755</th>\n",
       "      <td>Widmer St / Adelaide St W,43.647547634759206,-...</td>\n",
       "    </tr>\n",
       "    <tr>\n",
       "      <th>756</th>\n",
       "      <td>800 Fleet St (North),43.63682856154585,-79.408...</td>\n",
       "    </tr>\n",
       "    <tr>\n",
       "      <th>757</th>\n",
       "      <td>800 Fleet St (South),43.63670985212708,-79.408...</td>\n",
       "    </tr>\n",
       "    <tr>\n",
       "      <th>758</th>\n",
       "      <td>Queen's Park Cres E / Grosvenor St - SMART,43....</td>\n",
       "    </tr>\n",
       "  </tbody>\n",
       "</table>\n",
       "<p>759 rows × 1 columns</p>\n",
       "</div>"
      ],
      "text/plain": [
       "       Station Name,Latitude,Longitude,Bikes Available\n",
       "0    Queen St E / Woodward Ave,43.665269,-79.319796,18\n",
       "1    Primrose Ave / Davenport Rd,43.67142,-79.445947,8\n",
       "2      Queen St E / Rhodes Ave,43.666224,-79.317693,15\n",
       "3          Bond St / Queen St E,43.653236,-79.376716,2\n",
       "4     Church St / Alexander St,43.663722,-79.380288,17\n",
       "..                                                 ...\n",
       "754  Opposite 1103 Leslie St,43.72093164598881,-79....\n",
       "755  Widmer St / Adelaide St W,43.647547634759206,-...\n",
       "756  800 Fleet St (North),43.63682856154585,-79.408...\n",
       "757  800 Fleet St (South),43.63670985212708,-79.408...\n",
       "758  Queen's Park Cres E / Grosvenor St - SMART,43....\n",
       "\n",
       "[759 rows x 1 columns]"
      ]
     },
     "execution_count": 72,
     "metadata": {},
     "output_type": "execute_result"
    }
   ],
   "source": [
    "# Bike_stations was in str datatype after converting it to json\n",
    "# to iterate through it change it to list of dictionary\n",
    "Bike_stations = json.loads(Bike_stations)\n",
    "# type(Bike_stations)\n",
    "\n",
    "df = pd.DataFrame(Bike_stations)\n",
    "df"
   ]
  },
  {
   "cell_type": "code",
   "execution_count": 75,
   "metadata": {
    "tags": []
   },
   "outputs": [
    {
     "name": "stderr",
     "output_type": "stream",
     "text": [
      "\n",
      "KeyboardInterrupt\n",
      "\n"
     ]
    }
   ],
   "source": [
    "# Creating empty list to store responses\n",
    "response_list = []\n",
    "\n",
    "# Iterating through each station in Bike_stations\n",
    "for station in Bike_stations:\n",
    "    latitude = station.get('Latitude')\n",
    "    longitude = station.get('Longitude')\n",
    "\n",
    "    # Defining API endpoint\n",
    "    url = \"https://api.foursquare.com/v3/places/search\"\n",
    "\n",
    "    # Headers\n",
    "    headers = {\"Accept\": \"application/json\",\n",
    "                 \"Authorization\": API_KEY}\n",
    "\n",
    "    # Setting up parameters for API request\n",
    "    params = {\n",
    "        'query': 'Indian Restaurant',\n",
    "        'll': f\"{latitude},{longitude}\",\n",
    "        'radius': 1000,\n",
    "        'openNow': '1',  # '1' indicates true for open_now\n",
    "        'limit': 10,      # Limit the number of results (adjust as needed)\n",
    "        'intent': 'browse',  # Use 'browse' intent for a general search\n",
    "        'categoryId': '4bf58dd8d48988d10f941735',  # Category ID for Indian Restaurants\n",
    "        'fields': 'name,location,geocodes,categories,distance,rating,tel,hours,stats,features'\n",
    "    }\n",
    "\n",
    "    # Send the Foursquare API request\n",
    "    response = requests.get(url, params=params, headers=headers)\n",
    "\n",
    "    # Check if request was successful (status code 200)\n",
    "    if response.status_code == 200:\n",
    "        # Use the .json() method to parse the response content into JSON\n",
    "        data_json = response.json()\n",
    "        \n",
    "        # Append the response to the list\n",
    "        response_list.append(data_json)\n",
    "    else:\n",
    "        print(f\"Request failed: {response.status_code}\")\n",
    "\n"
   ]
  },
  {
   "cell_type": "markdown",
   "metadata": {},
   "source": [
    "Parse through the response to get the POI (such as restaurants, bars, etc) details you want (ratings, name, location, etc)"
   ]
  },
  {
   "cell_type": "code",
   "execution_count": 57,
   "metadata": {
    "tags": []
   },
   "outputs": [
    {
     "name": "stdout",
     "output_type": "stream",
     "text": [
      "[]\n"
     ]
    }
   ],
   "source": [
    "\n",
    "\n"
   ]
  },
  {
   "cell_type": "markdown",
   "metadata": {},
   "source": [
    "Put your parsed results into a DataFrame"
   ]
  },
  {
   "cell_type": "code",
   "execution_count": 58,
   "metadata": {
    "tags": []
   },
   "outputs": [
    {
     "data": {
      "text/html": [
       "<div>\n",
       "<style scoped>\n",
       "    .dataframe tbody tr th:only-of-type {\n",
       "        vertical-align: middle;\n",
       "    }\n",
       "\n",
       "    .dataframe tbody tr th {\n",
       "        vertical-align: top;\n",
       "    }\n",
       "\n",
       "    .dataframe thead th {\n",
       "        text-align: right;\n",
       "    }\n",
       "</style>\n",
       "<table border=\"1\" class=\"dataframe\">\n",
       "  <thead>\n",
       "    <tr style=\"text-align: right;\">\n",
       "      <th></th>\n",
       "    </tr>\n",
       "  </thead>\n",
       "  <tbody>\n",
       "  </tbody>\n",
       "</table>\n",
       "</div>"
      ],
      "text/plain": [
       "Empty DataFrame\n",
       "Columns: []\n",
       "Index: []"
      ]
     },
     "execution_count": 58,
     "metadata": {},
     "output_type": "execute_result"
    }
   ],
   "source": [
    "\n"
   ]
  },
  {
   "cell_type": "markdown",
   "metadata": {},
   "source": [
    "# Yelp"
   ]
  },
  {
   "cell_type": "markdown",
   "metadata": {},
   "source": [
    "Send a request to Yelp with a small radius (1000m) for all the bike stations in your city of choice. "
   ]
  },
  {
   "cell_type": "code",
   "execution_count": null,
   "metadata": {},
   "outputs": [],
   "source": []
  },
  {
   "cell_type": "markdown",
   "metadata": {},
   "source": [
    "Parse through the response to get the POI (such as restaurants, bars, etc) details you want (ratings, name, location, etc)"
   ]
  },
  {
   "cell_type": "code",
   "execution_count": null,
   "metadata": {},
   "outputs": [],
   "source": []
  },
  {
   "cell_type": "markdown",
   "metadata": {},
   "source": [
    "Put your parsed results into a DataFrame"
   ]
  },
  {
   "cell_type": "markdown",
   "metadata": {},
   "source": []
  },
  {
   "cell_type": "markdown",
   "metadata": {},
   "source": [
    "# Comparing Results"
   ]
  },
  {
   "cell_type": "markdown",
   "metadata": {},
   "source": [
    "Which API provided you with more complete data? Provide an explanation. "
   ]
  },
  {
   "cell_type": "markdown",
   "metadata": {},
   "source": []
  },
  {
   "cell_type": "markdown",
   "metadata": {},
   "source": [
    "Get the top 10 restaurants according to their rating"
   ]
  },
  {
   "cell_type": "code",
   "execution_count": null,
   "metadata": {},
   "outputs": [],
   "source": []
  }
 ],
 "metadata": {
  "kernelspec": {
   "display_name": "Python 3 (ipykernel)",
   "language": "python",
   "name": "python3"
  },
  "language_info": {
   "codemirror_mode": {
    "name": "ipython",
    "version": 3
   },
   "file_extension": ".py",
   "mimetype": "text/x-python",
   "name": "python",
   "nbconvert_exporter": "python",
   "pygments_lexer": "ipython3",
   "version": "3.11.5"
  }
 },
 "nbformat": 4,
 "nbformat_minor": 4
}
