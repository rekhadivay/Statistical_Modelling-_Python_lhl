{
 "cells": [
  {
   "cell_type": "markdown",
   "metadata": {},
   "source": [
    "# CityBikes"
   ]
  },
  {
   "cell_type": "markdown",
   "metadata": {},
   "source": [
    "Send a request to CityBikes for the city of your choice. "
   ]
  },
  {
   "cell_type": "code",
   "execution_count": 1,
   "metadata": {
    "tags": []
   },
   "outputs": [],
   "source": [
    "import pandas as pd \n",
    "import requests"
   ]
  },
  {
   "cell_type": "code",
   "execution_count": 2,
   "metadata": {
    "tags": []
   },
   "outputs": [
    {
     "name": "stdout",
     "output_type": "stream",
     "text": [
      "Request Made Successfully\n"
     ]
    }
   ],
   "source": [
    "# Exploring City Bikes API trying to chose city to get bike info from\n",
    "\n",
    "# defining Networks URl for citybike\n",
    "url = f\"http://api.citybik.es/v2/networks\"\n",
    "\n",
    "#requesting API to give all networks data for CityBikes\n",
    "response = requests.get(url)\n",
    "\n",
    "if response.status_code == 200:\n",
    "    print(\"Request Made Successfully\")\n",
    "    \n",
    "else:\n",
    "    print(\"Error Requesting Data:\", response.status_code)"
   ]
  },
  {
   "cell_type": "code",
   "execution_count": null,
   "metadata": {
    "tags": []
   },
   "outputs": [],
   "source": [
    "# parsing the data into Json format\n",
    "networks_data = response.json()"
   ]
  },
  {
   "cell_type": "code",
   "execution_count": null,
   "metadata": {},
   "outputs": [],
   "source": []
  },
  {
   "cell_type": "markdown",
   "metadata": {},
   "source": [
    "### Requesting all bike station data from Toronto(Canada)"
   ]
  },
  {
   "cell_type": "code",
   "execution_count": 4,
   "metadata": {
    "tags": []
   },
   "outputs": [
    {
     "name": "stdout",
     "output_type": "stream",
     "text": [
      "Request Successfull and Data Parsed\n"
     ]
    }
   ],
   "source": [
    "city_name = \"toronto\"  # defining city_name\n",
    "\n",
    "# creating url to select toronto as city from networks \n",
    "url_city = f\"http://api.citybik.es/v2/networks/{city_name}\"  \n",
    "response_city = requests.get(url_city)\n",
    "\n",
    "if response_city.status_code == 200:\n",
    "       # parsing the request data into json if the request is successfull\n",
    "         toronto_city = response_city.json()\n",
    "         print(\"Request Successfull and Data Parsed\")\n",
    "else:\n",
    "         print(\"Request not Successfull:\", respones.status_code)"
   ]
  },
  {
   "cell_type": "code",
   "execution_count": 5,
   "metadata": {
    "tags": []
   },
   "outputs": [],
   "source": [
    "all_stations = toronto_city['network'].get('stations')"
   ]
  },
  {
   "cell_type": "markdown",
   "metadata": {},
   "source": [
    "Parse through the response to get the details you want for the bike stations in that city (latitude, longitude, number of bikes). "
   ]
  },
  {
   "cell_type": "code",
   "execution_count": 6,
   "metadata": {
    "tags": []
   },
   "outputs": [],
   "source": [
    "if all_stations:\n",
    "    # Initiate the lists to store stations details\n",
    "    stations_details = []\n",
    "    \n",
    "    # itirate through the stations data\n",
    "    for station in all_stations:\n",
    "        station_name = station.get('name')\n",
    "        latitude    =  station.get('latitude')\n",
    "        longitude   =  station.get('longitude')\n",
    "        bikes_available = station.get('free_bikes')\n",
    "        \n",
    "    # create a dictionary with station details and append it to the list\n",
    "        stations_details.append({\n",
    "             'Station Name': station_name,\n",
    "             'Latitude': latitude,\n",
    "             'Longitude': longitude,\n",
    "             'Bikes Available': bikes_available\n",
    "              })\n",
    "        "
   ]
  },
  {
   "cell_type": "markdown",
   "metadata": {},
   "source": [
    "### Put your parsed results into a DataFrame."
   ]
  },
  {
   "cell_type": "code",
   "execution_count": 9,
   "metadata": {
    "tags": []
   },
   "outputs": [
    {
     "data": {
      "text/html": [
       "<div>\n",
       "<style scoped>\n",
       "    .dataframe tbody tr th:only-of-type {\n",
       "        vertical-align: middle;\n",
       "    }\n",
       "\n",
       "    .dataframe tbody tr th {\n",
       "        vertical-align: top;\n",
       "    }\n",
       "\n",
       "    .dataframe thead th {\n",
       "        text-align: right;\n",
       "    }\n",
       "</style>\n",
       "<table border=\"1\" class=\"dataframe\">\n",
       "  <thead>\n",
       "    <tr style=\"text-align: right;\">\n",
       "      <th></th>\n",
       "      <th>Station Name</th>\n",
       "      <th>Latitude</th>\n",
       "      <th>Longitude</th>\n",
       "      <th>Bikes Available</th>\n",
       "    </tr>\n",
       "  </thead>\n",
       "  <tbody>\n",
       "    <tr>\n",
       "      <th>0</th>\n",
       "      <td>Queen St E / Woodward Ave</td>\n",
       "      <td>43.665269</td>\n",
       "      <td>-79.319796</td>\n",
       "      <td>18</td>\n",
       "    </tr>\n",
       "    <tr>\n",
       "      <th>1</th>\n",
       "      <td>Primrose Ave / Davenport Rd</td>\n",
       "      <td>43.671420</td>\n",
       "      <td>-79.445947</td>\n",
       "      <td>8</td>\n",
       "    </tr>\n",
       "    <tr>\n",
       "      <th>2</th>\n",
       "      <td>Queen St E / Rhodes Ave</td>\n",
       "      <td>43.666224</td>\n",
       "      <td>-79.317693</td>\n",
       "      <td>15</td>\n",
       "    </tr>\n",
       "    <tr>\n",
       "      <th>3</th>\n",
       "      <td>Bond St / Queen St E</td>\n",
       "      <td>43.653236</td>\n",
       "      <td>-79.376716</td>\n",
       "      <td>2</td>\n",
       "    </tr>\n",
       "    <tr>\n",
       "      <th>4</th>\n",
       "      <td>Church St / Alexander St</td>\n",
       "      <td>43.663722</td>\n",
       "      <td>-79.380288</td>\n",
       "      <td>17</td>\n",
       "    </tr>\n",
       "    <tr>\n",
       "      <th>...</th>\n",
       "      <td>...</td>\n",
       "      <td>...</td>\n",
       "      <td>...</td>\n",
       "      <td>...</td>\n",
       "    </tr>\n",
       "    <tr>\n",
       "      <th>754</th>\n",
       "      <td>Opposite 1103 Leslie St</td>\n",
       "      <td>43.720932</td>\n",
       "      <td>-79.349894</td>\n",
       "      <td>0</td>\n",
       "    </tr>\n",
       "    <tr>\n",
       "      <th>755</th>\n",
       "      <td>Widmer St / Adelaide St W</td>\n",
       "      <td>43.647548</td>\n",
       "      <td>-79.391552</td>\n",
       "      <td>6</td>\n",
       "    </tr>\n",
       "    <tr>\n",
       "      <th>756</th>\n",
       "      <td>800 Fleet St (North)</td>\n",
       "      <td>43.636829</td>\n",
       "      <td>-79.408842</td>\n",
       "      <td>23</td>\n",
       "    </tr>\n",
       "    <tr>\n",
       "      <th>757</th>\n",
       "      <td>800 Fleet St (South)</td>\n",
       "      <td>43.636710</td>\n",
       "      <td>-79.408805</td>\n",
       "      <td>25</td>\n",
       "    </tr>\n",
       "    <tr>\n",
       "      <th>758</th>\n",
       "      <td>Queen's Park Cres E / Grosvenor St - SMART</td>\n",
       "      <td>43.661803</td>\n",
       "      <td>-79.389682</td>\n",
       "      <td>4</td>\n",
       "    </tr>\n",
       "  </tbody>\n",
       "</table>\n",
       "<p>759 rows × 4 columns</p>\n",
       "</div>"
      ],
      "text/plain": [
       "                                   Station Name   Latitude  Longitude  \\\n",
       "0                     Queen St E / Woodward Ave  43.665269 -79.319796   \n",
       "1                   Primrose Ave / Davenport Rd  43.671420 -79.445947   \n",
       "2                       Queen St E / Rhodes Ave  43.666224 -79.317693   \n",
       "3                          Bond St / Queen St E  43.653236 -79.376716   \n",
       "4                      Church St / Alexander St  43.663722 -79.380288   \n",
       "..                                          ...        ...        ...   \n",
       "754                     Opposite 1103 Leslie St  43.720932 -79.349894   \n",
       "755                   Widmer St / Adelaide St W  43.647548 -79.391552   \n",
       "756                        800 Fleet St (North)  43.636829 -79.408842   \n",
       "757                        800 Fleet St (South)  43.636710 -79.408805   \n",
       "758  Queen's Park Cres E / Grosvenor St - SMART  43.661803 -79.389682   \n",
       "\n",
       "     Bikes Available  \n",
       "0                 18  \n",
       "1                  8  \n",
       "2                 15  \n",
       "3                  2  \n",
       "4                 17  \n",
       "..               ...  \n",
       "754                0  \n",
       "755                6  \n",
       "756               23  \n",
       "757               25  \n",
       "758                4  \n",
       "\n",
       "[759 rows x 4 columns]"
      ]
     },
     "execution_count": 9,
     "metadata": {},
     "output_type": "execute_result"
    }
   ],
   "source": [
    "# Converting the dict list of all station info into a dataframe\n",
    "Bike_stations = pd.DataFrame(stations_details)\n",
    "Bike_stations"
   ]
  },
  {
   "cell_type": "code",
   "execution_count": 11,
   "metadata": {
    "tags": []
   },
   "outputs": [],
   "source": [
    "# creating a csv file for Bike_stations Dataframe to use it for further steps\n",
    "file_path = r'C:\\Users\\rekha\\Downloads\\Bike_stations.csv'\n",
    "\n",
    "# save the dataframe into CSV file path\n",
    "Bike_stations.to_csv(file_path, index=False)"
   ]
  },
  {
   "cell_type": "code",
   "execution_count": null,
   "metadata": {},
   "outputs": [],
   "source": []
  }
 ],
 "metadata": {
  "kernelspec": {
   "display_name": "Python 3 (ipykernel)",
   "language": "python",
   "name": "python3"
  },
  "language_info": {
   "codemirror_mode": {
    "name": "ipython",
    "version": 3
   },
   "file_extension": ".py",
   "mimetype": "text/x-python",
   "name": "python",
   "nbconvert_exporter": "python",
   "pygments_lexer": "ipython3",
   "version": "3.11.5"
  }
 },
 "nbformat": 4,
 "nbformat_minor": 4
}
