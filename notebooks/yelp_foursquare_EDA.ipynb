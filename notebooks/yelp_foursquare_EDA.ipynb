{
 "cells": [
  {
   "cell_type": "code",
   "execution_count": 3,
   "metadata": {
    "tags": []
   },
   "outputs": [],
   "source": [
    "# imports\n",
    "import pandas as pd\n",
    "import numpy as np\n",
    "import requests\n",
    "import os\n",
    "import json\n",
    "import api_key"
   ]
  },
  {
   "cell_type": "code",
   "execution_count": 63,
   "metadata": {
    "tags": []
   },
   "outputs": [],
   "source": [
    "# Foursquare"
   ]
  },
  {
   "cell_type": "markdown",
   "metadata": {},
   "source": [
    "Send a request to Foursquare with a small radius (1000m) for all the bike stations in your city of choice. "
   ]
  },
  {
   "cell_type": "code",
   "execution_count": 2,
   "metadata": {
    "tags": []
   },
   "outputs": [],
   "source": []
  },
  {
   "cell_type": "code",
   "execution_count": 28,
   "metadata": {
    "tags": []
   },
   "outputs": [],
   "source": [
    "API_KEY = api_key.foursquare_api['key']"
   ]
  },
  {
   "cell_type": "code",
   "execution_count": 8,
   "metadata": {
    "tags": []
   },
   "outputs": [
    {
     "data": {
      "text/html": [
       "<div>\n",
       "<style scoped>\n",
       "    .dataframe tbody tr th:only-of-type {\n",
       "        vertical-align: middle;\n",
       "    }\n",
       "\n",
       "    .dataframe tbody tr th {\n",
       "        vertical-align: top;\n",
       "    }\n",
       "\n",
       "    .dataframe thead th {\n",
       "        text-align: right;\n",
       "    }\n",
       "</style>\n",
       "<table border=\"1\" class=\"dataframe\">\n",
       "  <thead>\n",
       "    <tr style=\"text-align: right;\">\n",
       "      <th></th>\n",
       "      <th>Station Name</th>\n",
       "      <th>Latitude</th>\n",
       "      <th>Longitude</th>\n",
       "      <th>Bikes Available</th>\n",
       "    </tr>\n",
       "  </thead>\n",
       "  <tbody>\n",
       "    <tr>\n",
       "      <th>0</th>\n",
       "      <td>Queen St E / Woodward Ave</td>\n",
       "      <td>43.665269</td>\n",
       "      <td>-79.319796</td>\n",
       "      <td>18</td>\n",
       "    </tr>\n",
       "    <tr>\n",
       "      <th>1</th>\n",
       "      <td>Primrose Ave / Davenport Rd</td>\n",
       "      <td>43.671420</td>\n",
       "      <td>-79.445947</td>\n",
       "      <td>8</td>\n",
       "    </tr>\n",
       "    <tr>\n",
       "      <th>2</th>\n",
       "      <td>Queen St E / Rhodes Ave</td>\n",
       "      <td>43.666224</td>\n",
       "      <td>-79.317693</td>\n",
       "      <td>15</td>\n",
       "    </tr>\n",
       "    <tr>\n",
       "      <th>3</th>\n",
       "      <td>Bond St / Queen St E</td>\n",
       "      <td>43.653236</td>\n",
       "      <td>-79.376716</td>\n",
       "      <td>2</td>\n",
       "    </tr>\n",
       "    <tr>\n",
       "      <th>4</th>\n",
       "      <td>Church St / Alexander St</td>\n",
       "      <td>43.663722</td>\n",
       "      <td>-79.380288</td>\n",
       "      <td>17</td>\n",
       "    </tr>\n",
       "    <tr>\n",
       "      <th>...</th>\n",
       "      <td>...</td>\n",
       "      <td>...</td>\n",
       "      <td>...</td>\n",
       "      <td>...</td>\n",
       "    </tr>\n",
       "    <tr>\n",
       "      <th>754</th>\n",
       "      <td>Opposite 1103 Leslie St</td>\n",
       "      <td>43.720932</td>\n",
       "      <td>-79.349894</td>\n",
       "      <td>0</td>\n",
       "    </tr>\n",
       "    <tr>\n",
       "      <th>755</th>\n",
       "      <td>Widmer St / Adelaide St W</td>\n",
       "      <td>43.647548</td>\n",
       "      <td>-79.391552</td>\n",
       "      <td>6</td>\n",
       "    </tr>\n",
       "    <tr>\n",
       "      <th>756</th>\n",
       "      <td>800 Fleet St (North)</td>\n",
       "      <td>43.636829</td>\n",
       "      <td>-79.408842</td>\n",
       "      <td>23</td>\n",
       "    </tr>\n",
       "    <tr>\n",
       "      <th>757</th>\n",
       "      <td>800 Fleet St (South)</td>\n",
       "      <td>43.636710</td>\n",
       "      <td>-79.408805</td>\n",
       "      <td>25</td>\n",
       "    </tr>\n",
       "    <tr>\n",
       "      <th>758</th>\n",
       "      <td>Queen's Park Cres E / Grosvenor St - SMART</td>\n",
       "      <td>43.661803</td>\n",
       "      <td>-79.389682</td>\n",
       "      <td>4</td>\n",
       "    </tr>\n",
       "  </tbody>\n",
       "</table>\n",
       "<p>759 rows × 4 columns</p>\n",
       "</div>"
      ],
      "text/plain": [
       "                                   Station Name   Latitude  Longitude  \\\n",
       "0                     Queen St E / Woodward Ave  43.665269 -79.319796   \n",
       "1                   Primrose Ave / Davenport Rd  43.671420 -79.445947   \n",
       "2                       Queen St E / Rhodes Ave  43.666224 -79.317693   \n",
       "3                          Bond St / Queen St E  43.653236 -79.376716   \n",
       "4                      Church St / Alexander St  43.663722 -79.380288   \n",
       "..                                          ...        ...        ...   \n",
       "754                     Opposite 1103 Leslie St  43.720932 -79.349894   \n",
       "755                   Widmer St / Adelaide St W  43.647548 -79.391552   \n",
       "756                        800 Fleet St (North)  43.636829 -79.408842   \n",
       "757                        800 Fleet St (South)  43.636710 -79.408805   \n",
       "758  Queen's Park Cres E / Grosvenor St - SMART  43.661803 -79.389682   \n",
       "\n",
       "     Bikes Available  \n",
       "0                 18  \n",
       "1                  8  \n",
       "2                 15  \n",
       "3                  2  \n",
       "4                 17  \n",
       "..               ...  \n",
       "754                0  \n",
       "755                6  \n",
       "756               23  \n",
       "757               25  \n",
       "758                4  \n",
       "\n",
       "[759 rows x 4 columns]"
      ]
     },
     "execution_count": 8,
     "metadata": {},
     "output_type": "execute_result"
    }
   ],
   "source": [
    "# importing result from citybikes API with all stations in Toronto\n",
    "df = pd.read_csv(r'C:\\Users\\rekha\\Downloads\\Bike_stations.csv')\n",
    "df"
   ]
  },
  {
   "cell_type": "code",
   "execution_count": 13,
   "metadata": {
    "tags": []
   },
   "outputs": [],
   "source": []
  },
  {
   "cell_type": "code",
   "execution_count": 12,
   "metadata": {
    "tags": []
   },
   "outputs": [],
   "source": [
    " # Defining API endpoint\n",
    "url = \"https://api.foursquare.com/v3/places/search\"\n",
    "\n",
    "# headers\n",
    "headers = {\"Accept\": \"application/json\",\n",
    "           \"Authorization\": API_KEY}"
   ]
  },
  {
   "cell_type": "code",
   "execution_count": 22,
   "metadata": {
    "tags": []
   },
   "outputs": [
    {
     "data": {
      "text/plain": [
       "{'query': 'Indian Restaurant',\n",
       " 'll': '43.665269,-79.319796',\n",
       " 'radius': 1000,\n",
       " 'limit': 3,\n",
       " 'fields': 'name,location,geocodes,categories,distance,rating,tel,hours,stats,features'}"
      ]
     },
     "execution_count": 22,
     "metadata": {},
     "output_type": "execute_result"
    }
   ],
   "source": [
    " params = {\n",
    "        'query': 'Indian Restaurant',\n",
    "        'll': f\"{df.loc[0,'Latitude']},{df.loc[0, 'Longitude']}\",\n",
    "        'radius': 1000,\n",
    "        'limit': 3,      # Limit the number of results (adjust as needed)\n",
    "    \n",
    "        'fields': 'name,location,geocodes,categories,distance,rating,tel,hours,stats,features'\n",
    "    }\n",
    "   \n",
    "params    \n"
   ]
  },
  {
   "cell_type": "code",
   "execution_count": 23,
   "metadata": {
    "tags": []
   },
   "outputs": [],
   "source": [
    " # Send the Foursquare API request\n",
    "response = requests.get(url, params=params, headers=headers)"
   ]
  },
  {
   "cell_type": "code",
   "execution_count": 24,
   "metadata": {
    "tags": []
   },
   "outputs": [
    {
     "data": {
      "text/plain": [
       "-79.319796"
      ]
     },
     "execution_count": 24,
     "metadata": {},
     "output_type": "execute_result"
    }
   ],
   "source": [
    "df.loc[0,'Latitude']\n",
    "df.loc[0, 'Longitude']"
   ]
  },
  {
   "cell_type": "code",
   "execution_count": 25,
   "metadata": {
    "tags": []
   },
   "outputs": [
    {
     "data": {
      "text/plain": [
       "<Response [200]>"
      ]
     },
     "execution_count": 25,
     "metadata": {},
     "output_type": "execute_result"
    }
   ],
   "source": [
    "response"
   ]
  },
  {
   "cell_type": "code",
   "execution_count": 29,
   "metadata": {
    "tags": []
   },
   "outputs": [],
   "source": [
    "# response.json()"
   ]
  },
  {
   "cell_type": "code",
   "execution_count": null,
   "metadata": {},
   "outputs": [],
   "source": []
  },
  {
   "cell_type": "code",
   "execution_count": 32,
   "metadata": {
    "tags": []
   },
   "outputs": [],
   "source": [
    "# Creating empty list to store responses\n",
    "response_list = []\n",
    "\n",
    "# Iterating through each station in Bike_stations\n",
    "for station in range(len(df)):\n",
    "    latitude = df.loc[station,'Latitude']\n",
    "    longitude =df.loc[station, 'Longitude']\n",
    "\n",
    "    # Defining API endpoint\n",
    "    url = \"https://api.foursquare.com/v3/places/search\"\n",
    "\n",
    "    # Headers\n",
    "    headers = {\"Accept\": \"application/json\",\n",
    "                 \"Authorization\": API_KEY}\n",
    "\n",
    "    # Setting up parameters for API request\n",
    "    params = {\n",
    "        'query': 'Indian Restaurant',\n",
    "        'll': f\"{latitude},{longitude}\",\n",
    "        'radius': 1000,\n",
    "        'limit': 3,      # Limit the number of results (adjust as needed)\n",
    "    \n",
    "        'fields': 'name,location,geocodes,categories,distance,rating,tel,hours,stats,features'\n",
    "    }\n",
    "\n",
    "\n",
    "    # Send the Foursquare API request\n",
    "    response = requests.get(url, params=params, headers=headers)\n",
    "\n",
    "    # Check if request was successful (status code 200)\n",
    "    if response.status_code == 200:\n",
    "        # Use the .json() method to parse the response content into JSON\n",
    "        data_json = response.json()\n",
    "        \n",
    "        # Append the response to the list\n",
    "        response_list.append(data_json)\n",
    "    else:\n",
    "        print(f\"Request failed: {response.status_code}\")\n",
    "\n"
   ]
  },
  {
   "cell_type": "markdown",
   "metadata": {},
   "source": [
    "Parse through the response to get the POI (such as restaurants, bars, etc) details you want (ratings, name, location, etc)"
   ]
  },
  {
   "cell_type": "code",
   "execution_count": 38,
   "metadata": {
    "tags": []
   },
   "outputs": [],
   "source": [
    "flattened_data = [\n",
    "    {\n",
    "    \"Latitude\": response[\"geocodes\"][\"main\"].get(\"latitude\"),\n",
    "    \"Longitude\": response[\"geocodes\"][\"main\"].get(\"longitude\"),\n",
    "    \"name\": response.get(\"name\"),\n",
    "    \"distance\": response.get(\"distance\"),\n",
    "    \"address\": response[\"location\"].get(\"formatted_address\"),\n",
    "    \"telephone\": response.get(\"tel\"),\n",
    "    \"rating\": response.get(\"rating\"),\n",
    "    \"open_true\": response[\"hours\"].get(\"open_now\")\n",
    "    }\n",
    "  for result in response_list\n",
    "  for response in result.get(\"results\", [])\n",
    "]\n",
    "\n"
   ]
  },
  {
   "cell_type": "markdown",
   "metadata": {},
   "source": [
    "Put your parsed results into a DataFrame"
   ]
  },
  {
   "cell_type": "code",
   "execution_count": 39,
   "metadata": {
    "tags": []
   },
   "outputs": [
    {
     "data": {
      "text/html": [
       "<div>\n",
       "<style scoped>\n",
       "    .dataframe tbody tr th:only-of-type {\n",
       "        vertical-align: middle;\n",
       "    }\n",
       "\n",
       "    .dataframe tbody tr th {\n",
       "        vertical-align: top;\n",
       "    }\n",
       "\n",
       "    .dataframe thead th {\n",
       "        text-align: right;\n",
       "    }\n",
       "</style>\n",
       "<table border=\"1\" class=\"dataframe\">\n",
       "  <thead>\n",
       "    <tr style=\"text-align: right;\">\n",
       "      <th></th>\n",
       "      <th>Latitude</th>\n",
       "      <th>Longitude</th>\n",
       "      <th>name</th>\n",
       "      <th>distance</th>\n",
       "      <th>address</th>\n",
       "      <th>telephone</th>\n",
       "      <th>rating</th>\n",
       "      <th>open_true</th>\n",
       "    </tr>\n",
       "  </thead>\n",
       "  <tbody>\n",
       "    <tr>\n",
       "      <th>0</th>\n",
       "      <td>43.672665</td>\n",
       "      <td>-79.321041</td>\n",
       "      <td>Udupi Palace</td>\n",
       "      <td>810</td>\n",
       "      <td>1460 Gerrard St E (Coxwell Ave), Toronto ON M4...</td>\n",
       "      <td>(416) 405-8189</td>\n",
       "      <td>8.7</td>\n",
       "      <td>True</td>\n",
       "    </tr>\n",
       "    <tr>\n",
       "      <th>1</th>\n",
       "      <td>43.672278</td>\n",
       "      <td>-79.322523</td>\n",
       "      <td>Motimahal Restaurant Ltd</td>\n",
       "      <td>798</td>\n",
       "      <td>1422 Gerrard St E (Coxwell), Toronto ON M4L 1Z6</td>\n",
       "      <td>(416) 461-3111</td>\n",
       "      <td>8.1</td>\n",
       "      <td>True</td>\n",
       "    </tr>\n",
       "    <tr>\n",
       "      <th>2</th>\n",
       "      <td>43.671871</td>\n",
       "      <td>-79.324283</td>\n",
       "      <td>Bombay Chowpatty</td>\n",
       "      <td>812</td>\n",
       "      <td>1386 Gerrard St E, Toronto ON M4L 1Z2</td>\n",
       "      <td>(416) 405-8080</td>\n",
       "      <td>7.3</td>\n",
       "      <td>False</td>\n",
       "    </tr>\n",
       "    <tr>\n",
       "      <th>3</th>\n",
       "      <td>43.676566</td>\n",
       "      <td>-79.456089</td>\n",
       "      <td>Honorary Consulate of the Kingdom of Cambodia ...</td>\n",
       "      <td>995</td>\n",
       "      <td>60 Caledonia Rd, Toronto ON M6E 4S4</td>\n",
       "      <td>(647) 533-9335</td>\n",
       "      <td>NaN</td>\n",
       "      <td>False</td>\n",
       "    </tr>\n",
       "    <tr>\n",
       "      <th>4</th>\n",
       "      <td>43.677961</td>\n",
       "      <td>-79.443916</td>\n",
       "      <td>Pizza e Pazzi</td>\n",
       "      <td>733</td>\n",
       "      <td>1182 Saint Clair Ave W, Toronto ON M6E 1B4</td>\n",
       "      <td>(647) 352-7882</td>\n",
       "      <td>8.1</td>\n",
       "      <td>False</td>\n",
       "    </tr>\n",
       "    <tr>\n",
       "      <th>...</th>\n",
       "      <td>...</td>\n",
       "      <td>...</td>\n",
       "      <td>...</td>\n",
       "      <td>...</td>\n",
       "      <td>...</td>\n",
       "      <td>...</td>\n",
       "      <td>...</td>\n",
       "      <td>...</td>\n",
       "    </tr>\n",
       "    <tr>\n",
       "      <th>1814</th>\n",
       "      <td>43.638768</td>\n",
       "      <td>-79.416315</td>\n",
       "      <td>Maurya East Indian Cuisine - Liberty Village</td>\n",
       "      <td>661</td>\n",
       "      <td>150 E Liberty St, Toronto ON M6K 3R5</td>\n",
       "      <td>(647) 347-7002</td>\n",
       "      <td>NaN</td>\n",
       "      <td>True</td>\n",
       "    </tr>\n",
       "    <tr>\n",
       "      <th>1815</th>\n",
       "      <td>43.638479</td>\n",
       "      <td>-79.417204</td>\n",
       "      <td>Brazen Head Irish Pub</td>\n",
       "      <td>697</td>\n",
       "      <td>165 E. Liberty St (at Lynn Williams St.), Toro...</td>\n",
       "      <td>(416) 535-8787</td>\n",
       "      <td>6.2</td>\n",
       "      <td>True</td>\n",
       "    </tr>\n",
       "    <tr>\n",
       "      <th>1816</th>\n",
       "      <td>43.667943</td>\n",
       "      <td>-79.385626</td>\n",
       "      <td>Kothur Indian Cuisine</td>\n",
       "      <td>747</td>\n",
       "      <td>649 Yonge St, Toronto ON M4Y 1Z9</td>\n",
       "      <td>(416) 926-0953</td>\n",
       "      <td>7.8</td>\n",
       "      <td>False</td>\n",
       "    </tr>\n",
       "    <tr>\n",
       "      <th>1817</th>\n",
       "      <td>43.661085</td>\n",
       "      <td>-79.385750</td>\n",
       "      <td>Colaba Junction</td>\n",
       "      <td>339</td>\n",
       "      <td>801 Bay St, Toronto ON M5S 1Y9</td>\n",
       "      <td>(416) 646-8800</td>\n",
       "      <td>6.4</td>\n",
       "      <td>True</td>\n",
       "    </tr>\n",
       "    <tr>\n",
       "      <th>1818</th>\n",
       "      <td>43.669386</td>\n",
       "      <td>-79.385856</td>\n",
       "      <td>Suski Biriyani House</td>\n",
       "      <td>903</td>\n",
       "      <td>15 Hayden St (nr Yonge St), Toronto ON M4Y 2P2</td>\n",
       "      <td>(416) 515-1957</td>\n",
       "      <td>6.6</td>\n",
       "      <td>True</td>\n",
       "    </tr>\n",
       "  </tbody>\n",
       "</table>\n",
       "<p>1819 rows × 8 columns</p>\n",
       "</div>"
      ],
      "text/plain": [
       "       Latitude  Longitude                                               name  \\\n",
       "0     43.672665 -79.321041                                       Udupi Palace   \n",
       "1     43.672278 -79.322523                           Motimahal Restaurant Ltd   \n",
       "2     43.671871 -79.324283                                   Bombay Chowpatty   \n",
       "3     43.676566 -79.456089  Honorary Consulate of the Kingdom of Cambodia ...   \n",
       "4     43.677961 -79.443916                                      Pizza e Pazzi   \n",
       "...         ...        ...                                                ...   \n",
       "1814  43.638768 -79.416315       Maurya East Indian Cuisine - Liberty Village   \n",
       "1815  43.638479 -79.417204                              Brazen Head Irish Pub   \n",
       "1816  43.667943 -79.385626                              Kothur Indian Cuisine   \n",
       "1817  43.661085 -79.385750                                    Colaba Junction   \n",
       "1818  43.669386 -79.385856                               Suski Biriyani House   \n",
       "\n",
       "      distance                                            address  \\\n",
       "0          810  1460 Gerrard St E (Coxwell Ave), Toronto ON M4...   \n",
       "1          798    1422 Gerrard St E (Coxwell), Toronto ON M4L 1Z6   \n",
       "2          812              1386 Gerrard St E, Toronto ON M4L 1Z2   \n",
       "3          995                60 Caledonia Rd, Toronto ON M6E 4S4   \n",
       "4          733         1182 Saint Clair Ave W, Toronto ON M6E 1B4   \n",
       "...        ...                                                ...   \n",
       "1814       661               150 E Liberty St, Toronto ON M6K 3R5   \n",
       "1815       697  165 E. Liberty St (at Lynn Williams St.), Toro...   \n",
       "1816       747                   649 Yonge St, Toronto ON M4Y 1Z9   \n",
       "1817       339                     801 Bay St, Toronto ON M5S 1Y9   \n",
       "1818       903     15 Hayden St (nr Yonge St), Toronto ON M4Y 2P2   \n",
       "\n",
       "           telephone  rating  open_true  \n",
       "0     (416) 405-8189     8.7       True  \n",
       "1     (416) 461-3111     8.1       True  \n",
       "2     (416) 405-8080     7.3      False  \n",
       "3     (647) 533-9335     NaN      False  \n",
       "4     (647) 352-7882     8.1      False  \n",
       "...              ...     ...        ...  \n",
       "1814  (647) 347-7002     NaN       True  \n",
       "1815  (416) 535-8787     6.2       True  \n",
       "1816  (416) 926-0953     7.8      False  \n",
       "1817  (416) 646-8800     6.4       True  \n",
       "1818  (416) 515-1957     6.6       True  \n",
       "\n",
       "[1819 rows x 8 columns]"
      ]
     },
     "execution_count": 39,
     "metadata": {},
     "output_type": "execute_result"
    }
   ],
   "source": [
    "indian_restaurant = pd.DataFrame(flattened_data)\n",
    "\n",
    "indian_restaurant"
   ]
  },
  {
   "cell_type": "code",
   "execution_count": 97,
   "metadata": {
    "tags": []
   },
   "outputs": [],
   "source": [
    "# creating a csv file for Bike_stations Dataframe to use it for further steps\n",
    "file_path = r'C:\\Users\\rekha\\Downloads\\indian_restaurant.csv'\n",
    "\n",
    "# save the dataframe into CSV file path\n",
    "indian_restaurant.to_csv(file_path, index=False)"
   ]
  },
  {
   "cell_type": "markdown",
   "metadata": {},
   "source": [
    "# Yelp"
   ]
  },
  {
   "cell_type": "markdown",
   "metadata": {},
   "source": [
    "Send a request to Yelp with a small radius (1000m) for all the bike stations in your city of choice. "
   ]
  },
  {
   "cell_type": "code",
   "execution_count": 103,
   "metadata": {
    "tags": []
   },
   "outputs": [],
   "source": [
    "import api_key2\n",
    "Yelp_API_KEY = api_key2.yelp_api['key']\n"
   ]
  },
  {
   "cell_type": "code",
   "execution_count": 75,
   "metadata": {
    "tags": []
   },
   "outputs": [],
   "source": [
    "# Defining API endpoint\n",
    "url_yelp = \"https://api.yelp.com/v3/businesses/search\"\n",
    "\n",
    "# headers\n",
    "headers = {\"Accept\": \"application/json\",\n",
    "           \"Authorization\": Yelp_API_KEY}"
   ]
  },
  {
   "cell_type": "code",
   "execution_count": null,
   "metadata": {},
   "outputs": [],
   "source": []
  },
  {
   "cell_type": "code",
   "execution_count": 76,
   "metadata": {
    "tags": []
   },
   "outputs": [
    {
     "data": {
      "text/plain": [
       "{'latitude': 43.665269,\n",
       " 'longitude': -79.319796,\n",
       " 'term': 'Indian Restaurant',\n",
       " 'radius': 1000}"
      ]
     },
     "execution_count": 76,
     "metadata": {},
     "output_type": "execute_result"
    }
   ],
   "source": [
    " params = {\n",
    "           'latitude': latitude,\n",
    "           'longitude': longitude,\n",
    "           'term': 'Indian Restaurant',\n",
    "           'radius': 1000,\n",
    "             }  \n",
    "    \n",
    "params "
   ]
  },
  {
   "cell_type": "code",
   "execution_count": 77,
   "metadata": {
    "tags": []
   },
   "outputs": [],
   "source": [
    "response = requests.get(url_yelp, params=params, headers=headers)"
   ]
  },
  {
   "cell_type": "code",
   "execution_count": 78,
   "metadata": {
    "tags": []
   },
   "outputs": [
    {
     "data": {
      "text/plain": [
       "-79.319796"
      ]
     },
     "execution_count": 78,
     "metadata": {},
     "output_type": "execute_result"
    }
   ],
   "source": [
    "df.loc[0,'Latitude']\n",
    "df.loc[0, 'Longitude']"
   ]
  },
  {
   "cell_type": "code",
   "execution_count": 80,
   "metadata": {
    "tags": []
   },
   "outputs": [],
   "source": [
    "# creating empty list to store responses\n",
    "yelp_response_list = []\n",
    "\n",
    "# maximum number of request to send\n",
    "MAX_REQUEST = 490\n",
    "# initialize a request count\n",
    "request_count = 0\n",
    "\n",
    "\n",
    "# iteraing through each station in Bike_stations \n",
    "for index, row in df.iterrows():\n",
    "    \n",
    "    #check if the maximum number of request has been reached\n",
    "    if request_count >= MAX_REQUEST:\n",
    "        break\n",
    "        \n",
    "    latitude = row['Latitude']\n",
    "    longitude = row['Longitude']\n",
    "    \n",
    "    \n",
    "     # Defining API endpoint\n",
    "    url_yelp = \"https://api.yelp.com/v3/businesses/search\"\n",
    "\n",
    "    # headers\n",
    "    headers = {\"Accept\": \"application/json\",\n",
    "                 \"Authorization\": f'Bearer {Yelp_API_KEY}',\n",
    "                 }\n",
    "    \n",
    "\n",
    "    \n",
    "    \n",
    "    # setting up parameters for API request\n",
    "\n",
    "    params = {\n",
    "           'latitude': latitude,\n",
    "           'longitude': longitude,\n",
    "           'term': 'Indian Restaurant',\n",
    "           'radius': 1000,\n",
    "             }  \n",
    "    \n",
    "    # send the foresquare API request\n",
    "    response_yelp = requests.get(url=url_yelp,params=params, headers=headers)\n",
    "    \n",
    "    \n",
    "    # check if request was successfull (status code 200)\n",
    "    if response_yelp.status_code == 200:\n",
    "        #use the .json() method to parse the response content into json\n",
    "        yelp_data_json = response_yelp.json()\n",
    "        \n",
    "        # Append the response to the list\n",
    "        yelp_response_list.append(yelp_data_json)\n",
    "        \n",
    "        # Increment the request counter\n",
    "        request_count += 1\n",
    "    else:\n",
    "        print(f\"Request failed: {response_yelp.status_code}\")\n",
    "    "
   ]
  },
  {
   "cell_type": "markdown",
   "metadata": {},
   "source": [
    "Parse through the response to get the POI (such as restaurants, bars, etc) details you want (ratings, name, location, etc).\n",
    "# My POI is 'indian Restaurants' in the above piece of code."
   ]
  },
  {
   "cell_type": "code",
   "execution_count": 82,
   "metadata": {
    "tags": []
   },
   "outputs": [],
   "source": [
    "yelp_flattened_data = [\n",
    "    {\n",
    "    \"name\": response.get(\"name\"),\n",
    "    \"distance\": response.get(\"distance\"),\n",
    "    \"address\": response[\"location\"].get(\"display_address\"),\n",
    "    \"telephone\": response.get(\"display_phone\"),\n",
    "    \"rating\": response.get(\"rating\"),\n",
    "    \"review_counts\": response.get(\"review_count\"),\n",
    "    \"closed\": response.get(\"is_closed\")\n",
    "    }\n",
    "  for result in yelp_response_list\n",
    "  for response in result.get(\"businesses\", [])\n",
    "]"
   ]
  },
  {
   "cell_type": "markdown",
   "metadata": {},
   "source": [
    "Put your parsed results into a DataFrame"
   ]
  },
  {
   "cell_type": "code",
   "execution_count": 83,
   "metadata": {
    "tags": []
   },
   "outputs": [
    {
     "data": {
      "text/html": [
       "<div>\n",
       "<style scoped>\n",
       "    .dataframe tbody tr th:only-of-type {\n",
       "        vertical-align: middle;\n",
       "    }\n",
       "\n",
       "    .dataframe tbody tr th {\n",
       "        vertical-align: top;\n",
       "    }\n",
       "\n",
       "    .dataframe thead th {\n",
       "        text-align: right;\n",
       "    }\n",
       "</style>\n",
       "<table border=\"1\" class=\"dataframe\">\n",
       "  <thead>\n",
       "    <tr style=\"text-align: right;\">\n",
       "      <th></th>\n",
       "      <th>name</th>\n",
       "      <th>distance</th>\n",
       "      <th>address</th>\n",
       "      <th>telephone</th>\n",
       "      <th>rating</th>\n",
       "      <th>review_counts</th>\n",
       "      <th>closed</th>\n",
       "    </tr>\n",
       "  </thead>\n",
       "  <tbody>\n",
       "    <tr>\n",
       "      <th>0</th>\n",
       "      <td>The Famous Indian Cuisine</td>\n",
       "      <td>809.806740</td>\n",
       "      <td>[1410 Gerrard Street E, Toronto, ON M4L 1Z4, C...</td>\n",
       "      <td>+1 416-406-4511</td>\n",
       "      <td>4.0</td>\n",
       "      <td>66</td>\n",
       "      <td>False</td>\n",
       "    </tr>\n",
       "    <tr>\n",
       "      <th>1</th>\n",
       "      <td>Lahore Tikka House</td>\n",
       "      <td>787.473798</td>\n",
       "      <td>[1365 Gerrard Street E, Toronto, ON M4L 1Z3, C...</td>\n",
       "      <td>+1 416-406-1668</td>\n",
       "      <td>3.5</td>\n",
       "      <td>546</td>\n",
       "      <td>False</td>\n",
       "    </tr>\n",
       "    <tr>\n",
       "      <th>2</th>\n",
       "      <td>Leela Indian Food Bar</td>\n",
       "      <td>829.086102</td>\n",
       "      <td>[1386 Gerrard Street E, Toronto, ON M4L 1Z2, C...</td>\n",
       "      <td>+1 416-461-8088</td>\n",
       "      <td>4.0</td>\n",
       "      <td>20</td>\n",
       "      <td>False</td>\n",
       "    </tr>\n",
       "    <tr>\n",
       "      <th>3</th>\n",
       "      <td>Chandni Chowk Restaurant</td>\n",
       "      <td>816.858497</td>\n",
       "      <td>[1426 Gerrard Street E, Toronto, ON M4L 1Z6, C...</td>\n",
       "      <td>+1 416-469-4466</td>\n",
       "      <td>4.0</td>\n",
       "      <td>32</td>\n",
       "      <td>False</td>\n",
       "    </tr>\n",
       "    <tr>\n",
       "      <th>4</th>\n",
       "      <td>Udupi Palace</td>\n",
       "      <td>839.396242</td>\n",
       "      <td>[1460 Gerrard Street E, Toronto, ON M4L 2A3, C...</td>\n",
       "      <td>+1 416-405-8189</td>\n",
       "      <td>3.5</td>\n",
       "      <td>208</td>\n",
       "      <td>False</td>\n",
       "    </tr>\n",
       "    <tr>\n",
       "      <th>...</th>\n",
       "      <td>...</td>\n",
       "      <td>...</td>\n",
       "      <td>...</td>\n",
       "      <td>...</td>\n",
       "      <td>...</td>\n",
       "      <td>...</td>\n",
       "      <td>...</td>\n",
       "    </tr>\n",
       "    <tr>\n",
       "      <th>5014</th>\n",
       "      <td>Curryish Tavern</td>\n",
       "      <td>988.930837</td>\n",
       "      <td>[783 Queen Street W, Toronto, ON M6J 1G1, Canada]</td>\n",
       "      <td>+1 416-392-7837</td>\n",
       "      <td>4.0</td>\n",
       "      <td>11</td>\n",
       "      <td>False</td>\n",
       "    </tr>\n",
       "    <tr>\n",
       "      <th>5015</th>\n",
       "      <td>My Roti Place</td>\n",
       "      <td>654.277866</td>\n",
       "      <td>[901 King Street W, Toronto, ON M5V 3H5, Canada]</td>\n",
       "      <td>+1 416-306-8445</td>\n",
       "      <td>5.0</td>\n",
       "      <td>1</td>\n",
       "      <td>False</td>\n",
       "    </tr>\n",
       "    <tr>\n",
       "      <th>5016</th>\n",
       "      <td>Sizzler Kabab</td>\n",
       "      <td>697.263479</td>\n",
       "      <td>[754 King Street W, Toronto, ON M5V 1N3, Canada]</td>\n",
       "      <td></td>\n",
       "      <td>3.5</td>\n",
       "      <td>11</td>\n",
       "      <td>False</td>\n",
       "    </tr>\n",
       "    <tr>\n",
       "      <th>5017</th>\n",
       "      <td>Coco Rice Thai Cuisine</td>\n",
       "      <td>754.553356</td>\n",
       "      <td>[669 King Street W, Toronto, ON M5V 1M9, Canada]</td>\n",
       "      <td>+1 416-504-9434</td>\n",
       "      <td>3.5</td>\n",
       "      <td>114</td>\n",
       "      <td>False</td>\n",
       "    </tr>\n",
       "    <tr>\n",
       "      <th>5018</th>\n",
       "      <td>Fresh on Crawford</td>\n",
       "      <td>1124.193650</td>\n",
       "      <td>[894 Queen Street W, Toronto, ON M6J 1G3, Canada]</td>\n",
       "      <td>+1 416-599-4442</td>\n",
       "      <td>3.5</td>\n",
       "      <td>193</td>\n",
       "      <td>False</td>\n",
       "    </tr>\n",
       "  </tbody>\n",
       "</table>\n",
       "<p>5019 rows × 7 columns</p>\n",
       "</div>"
      ],
      "text/plain": [
       "                           name     distance  \\\n",
       "0     The Famous Indian Cuisine   809.806740   \n",
       "1            Lahore Tikka House   787.473798   \n",
       "2         Leela Indian Food Bar   829.086102   \n",
       "3      Chandni Chowk Restaurant   816.858497   \n",
       "4                  Udupi Palace   839.396242   \n",
       "...                         ...          ...   \n",
       "5014            Curryish Tavern   988.930837   \n",
       "5015              My Roti Place   654.277866   \n",
       "5016              Sizzler Kabab   697.263479   \n",
       "5017     Coco Rice Thai Cuisine   754.553356   \n",
       "5018          Fresh on Crawford  1124.193650   \n",
       "\n",
       "                                                address        telephone  \\\n",
       "0     [1410 Gerrard Street E, Toronto, ON M4L 1Z4, C...  +1 416-406-4511   \n",
       "1     [1365 Gerrard Street E, Toronto, ON M4L 1Z3, C...  +1 416-406-1668   \n",
       "2     [1386 Gerrard Street E, Toronto, ON M4L 1Z2, C...  +1 416-461-8088   \n",
       "3     [1426 Gerrard Street E, Toronto, ON M4L 1Z6, C...  +1 416-469-4466   \n",
       "4     [1460 Gerrard Street E, Toronto, ON M4L 2A3, C...  +1 416-405-8189   \n",
       "...                                                 ...              ...   \n",
       "5014  [783 Queen Street W, Toronto, ON M6J 1G1, Canada]  +1 416-392-7837   \n",
       "5015   [901 King Street W, Toronto, ON M5V 3H5, Canada]  +1 416-306-8445   \n",
       "5016   [754 King Street W, Toronto, ON M5V 1N3, Canada]                    \n",
       "5017   [669 King Street W, Toronto, ON M5V 1M9, Canada]  +1 416-504-9434   \n",
       "5018  [894 Queen Street W, Toronto, ON M6J 1G3, Canada]  +1 416-599-4442   \n",
       "\n",
       "      rating  review_counts  closed  \n",
       "0        4.0             66   False  \n",
       "1        3.5            546   False  \n",
       "2        4.0             20   False  \n",
       "3        4.0             32   False  \n",
       "4        3.5            208   False  \n",
       "...      ...            ...     ...  \n",
       "5014     4.0             11   False  \n",
       "5015     5.0              1   False  \n",
       "5016     3.5             11   False  \n",
       "5017     3.5            114   False  \n",
       "5018     3.5            193   False  \n",
       "\n",
       "[5019 rows x 7 columns]"
      ]
     },
     "execution_count": 83,
     "metadata": {},
     "output_type": "execute_result"
    }
   ],
   "source": [
    "yelp_indian_restaurant = pd.DataFrame(yelp_flattened_data)\n",
    "yelp_indian_restaurant"
   ]
  },
  {
   "cell_type": "code",
   "execution_count": 99,
   "metadata": {
    "tags": []
   },
   "outputs": [],
   "source": [
    "file_path = r'C:\\Users\\rekha\\Downloads\\yelp_indian_restaurant.csv'\n",
    "\n",
    "# save the dataframe into CSV file path\n",
    "yelp_indian_restaurant.to_csv(file_path, index=False)\n"
   ]
  },
  {
   "cell_type": "code",
   "execution_count": 101,
   "metadata": {
    "tags": []
   },
   "outputs": [],
   "source": [
    "indian_restaurant = pd.read_csv(r'C:\\Users\\rekha\\Downloads\\indian_restaurant.csv')\n"
   ]
  },
  {
   "cell_type": "markdown",
   "metadata": {},
   "source": [
    "# Comparing Results"
   ]
  },
  {
   "cell_type": "markdown",
   "metadata": {},
   "source": [
    "## We'll review the results from the Foursquare API, specifically the data related to Indian restaurants."
   ]
  },
  {
   "cell_type": "code",
   "execution_count": 102,
   "metadata": {
    "tags": []
   },
   "outputs": [
    {
     "data": {
      "text/html": [
       "<div>\n",
       "<style scoped>\n",
       "    .dataframe tbody tr th:only-of-type {\n",
       "        vertical-align: middle;\n",
       "    }\n",
       "\n",
       "    .dataframe tbody tr th {\n",
       "        vertical-align: top;\n",
       "    }\n",
       "\n",
       "    .dataframe thead th {\n",
       "        text-align: right;\n",
       "    }\n",
       "</style>\n",
       "<table border=\"1\" class=\"dataframe\">\n",
       "  <thead>\n",
       "    <tr style=\"text-align: right;\">\n",
       "      <th></th>\n",
       "      <th>Latitude</th>\n",
       "      <th>Longitude</th>\n",
       "      <th>name</th>\n",
       "      <th>distance</th>\n",
       "      <th>address</th>\n",
       "      <th>telephone</th>\n",
       "      <th>rating</th>\n",
       "      <th>open_true</th>\n",
       "    </tr>\n",
       "  </thead>\n",
       "  <tbody>\n",
       "    <tr>\n",
       "      <th>0</th>\n",
       "      <td>43.672665</td>\n",
       "      <td>-79.321041</td>\n",
       "      <td>Udupi Palace</td>\n",
       "      <td>810</td>\n",
       "      <td>1460 Gerrard St E (Coxwell Ave), Toronto ON M4...</td>\n",
       "      <td>(416) 405-8189</td>\n",
       "      <td>8.7</td>\n",
       "      <td>True</td>\n",
       "    </tr>\n",
       "    <tr>\n",
       "      <th>1</th>\n",
       "      <td>43.672278</td>\n",
       "      <td>-79.322523</td>\n",
       "      <td>Motimahal Restaurant Ltd</td>\n",
       "      <td>798</td>\n",
       "      <td>1422 Gerrard St E (Coxwell), Toronto ON M4L 1Z6</td>\n",
       "      <td>(416) 461-3111</td>\n",
       "      <td>8.1</td>\n",
       "      <td>True</td>\n",
       "    </tr>\n",
       "    <tr>\n",
       "      <th>2</th>\n",
       "      <td>43.671871</td>\n",
       "      <td>-79.324283</td>\n",
       "      <td>Bombay Chowpatty</td>\n",
       "      <td>812</td>\n",
       "      <td>1386 Gerrard St E, Toronto ON M4L 1Z2</td>\n",
       "      <td>(416) 405-8080</td>\n",
       "      <td>7.3</td>\n",
       "      <td>False</td>\n",
       "    </tr>\n",
       "    <tr>\n",
       "      <th>3</th>\n",
       "      <td>43.676566</td>\n",
       "      <td>-79.456089</td>\n",
       "      <td>Honorary Consulate of the Kingdom of Cambodia ...</td>\n",
       "      <td>995</td>\n",
       "      <td>60 Caledonia Rd, Toronto ON M6E 4S4</td>\n",
       "      <td>(647) 533-9335</td>\n",
       "      <td>NaN</td>\n",
       "      <td>False</td>\n",
       "    </tr>\n",
       "    <tr>\n",
       "      <th>4</th>\n",
       "      <td>43.677961</td>\n",
       "      <td>-79.443916</td>\n",
       "      <td>Pizza e Pazzi</td>\n",
       "      <td>733</td>\n",
       "      <td>1182 Saint Clair Ave W, Toronto ON M6E 1B4</td>\n",
       "      <td>(647) 352-7882</td>\n",
       "      <td>8.1</td>\n",
       "      <td>False</td>\n",
       "    </tr>\n",
       "    <tr>\n",
       "      <th>...</th>\n",
       "      <td>...</td>\n",
       "      <td>...</td>\n",
       "      <td>...</td>\n",
       "      <td>...</td>\n",
       "      <td>...</td>\n",
       "      <td>...</td>\n",
       "      <td>...</td>\n",
       "      <td>...</td>\n",
       "    </tr>\n",
       "    <tr>\n",
       "      <th>1814</th>\n",
       "      <td>43.638768</td>\n",
       "      <td>-79.416315</td>\n",
       "      <td>Maurya East Indian Cuisine - Liberty Village</td>\n",
       "      <td>661</td>\n",
       "      <td>150 E Liberty St, Toronto ON M6K 3R5</td>\n",
       "      <td>(647) 347-7002</td>\n",
       "      <td>NaN</td>\n",
       "      <td>True</td>\n",
       "    </tr>\n",
       "    <tr>\n",
       "      <th>1815</th>\n",
       "      <td>43.638479</td>\n",
       "      <td>-79.417204</td>\n",
       "      <td>Brazen Head Irish Pub</td>\n",
       "      <td>697</td>\n",
       "      <td>165 E. Liberty St (at Lynn Williams St.), Toro...</td>\n",
       "      <td>(416) 535-8787</td>\n",
       "      <td>6.2</td>\n",
       "      <td>True</td>\n",
       "    </tr>\n",
       "    <tr>\n",
       "      <th>1816</th>\n",
       "      <td>43.667943</td>\n",
       "      <td>-79.385626</td>\n",
       "      <td>Kothur Indian Cuisine</td>\n",
       "      <td>747</td>\n",
       "      <td>649 Yonge St, Toronto ON M4Y 1Z9</td>\n",
       "      <td>(416) 926-0953</td>\n",
       "      <td>7.8</td>\n",
       "      <td>False</td>\n",
       "    </tr>\n",
       "    <tr>\n",
       "      <th>1817</th>\n",
       "      <td>43.661085</td>\n",
       "      <td>-79.385750</td>\n",
       "      <td>Colaba Junction</td>\n",
       "      <td>339</td>\n",
       "      <td>801 Bay St, Toronto ON M5S 1Y9</td>\n",
       "      <td>(416) 646-8800</td>\n",
       "      <td>6.4</td>\n",
       "      <td>True</td>\n",
       "    </tr>\n",
       "    <tr>\n",
       "      <th>1818</th>\n",
       "      <td>43.669386</td>\n",
       "      <td>-79.385856</td>\n",
       "      <td>Suski Biriyani House</td>\n",
       "      <td>903</td>\n",
       "      <td>15 Hayden St (nr Yonge St), Toronto ON M4Y 2P2</td>\n",
       "      <td>(416) 515-1957</td>\n",
       "      <td>6.6</td>\n",
       "      <td>True</td>\n",
       "    </tr>\n",
       "  </tbody>\n",
       "</table>\n",
       "<p>1819 rows × 8 columns</p>\n",
       "</div>"
      ],
      "text/plain": [
       "       Latitude  Longitude                                               name  \\\n",
       "0     43.672665 -79.321041                                       Udupi Palace   \n",
       "1     43.672278 -79.322523                           Motimahal Restaurant Ltd   \n",
       "2     43.671871 -79.324283                                   Bombay Chowpatty   \n",
       "3     43.676566 -79.456089  Honorary Consulate of the Kingdom of Cambodia ...   \n",
       "4     43.677961 -79.443916                                      Pizza e Pazzi   \n",
       "...         ...        ...                                                ...   \n",
       "1814  43.638768 -79.416315       Maurya East Indian Cuisine - Liberty Village   \n",
       "1815  43.638479 -79.417204                              Brazen Head Irish Pub   \n",
       "1816  43.667943 -79.385626                              Kothur Indian Cuisine   \n",
       "1817  43.661085 -79.385750                                    Colaba Junction   \n",
       "1818  43.669386 -79.385856                               Suski Biriyani House   \n",
       "\n",
       "      distance                                            address  \\\n",
       "0          810  1460 Gerrard St E (Coxwell Ave), Toronto ON M4...   \n",
       "1          798    1422 Gerrard St E (Coxwell), Toronto ON M4L 1Z6   \n",
       "2          812              1386 Gerrard St E, Toronto ON M4L 1Z2   \n",
       "3          995                60 Caledonia Rd, Toronto ON M6E 4S4   \n",
       "4          733         1182 Saint Clair Ave W, Toronto ON M6E 1B4   \n",
       "...        ...                                                ...   \n",
       "1814       661               150 E Liberty St, Toronto ON M6K 3R5   \n",
       "1815       697  165 E. Liberty St (at Lynn Williams St.), Toro...   \n",
       "1816       747                   649 Yonge St, Toronto ON M4Y 1Z9   \n",
       "1817       339                     801 Bay St, Toronto ON M5S 1Y9   \n",
       "1818       903     15 Hayden St (nr Yonge St), Toronto ON M4Y 2P2   \n",
       "\n",
       "           telephone  rating  open_true  \n",
       "0     (416) 405-8189     8.7       True  \n",
       "1     (416) 461-3111     8.1       True  \n",
       "2     (416) 405-8080     7.3      False  \n",
       "3     (647) 533-9335     NaN      False  \n",
       "4     (647) 352-7882     8.1      False  \n",
       "...              ...     ...        ...  \n",
       "1814  (647) 347-7002     NaN       True  \n",
       "1815  (416) 535-8787     6.2       True  \n",
       "1816  (416) 926-0953     7.8      False  \n",
       "1817  (416) 646-8800     6.4       True  \n",
       "1818  (416) 515-1957     6.6       True  \n",
       "\n",
       "[1819 rows x 8 columns]"
      ]
     },
     "execution_count": 102,
     "metadata": {},
     "output_type": "execute_result"
    }
   ],
   "source": [
    "indian_restaurant"
   ]
  },
  {
   "cell_type": "code",
   "execution_count": 86,
   "metadata": {
    "tags": []
   },
   "outputs": [
    {
     "data": {
      "text/plain": [
       "Latitude       0\n",
       "Longitude      0\n",
       "name           0\n",
       "distance       0\n",
       "address        0\n",
       "telephone    130\n",
       "rating       878\n",
       "open_true      0\n",
       "dtype: int64"
      ]
     },
     "execution_count": 86,
     "metadata": {},
     "output_type": "execute_result"
    }
   ],
   "source": [
    "# check any null values\n",
    "indian_restaurant.isnull().sum()"
   ]
  },
  {
   "cell_type": "code",
   "execution_count": 87,
   "metadata": {
    "tags": []
   },
   "outputs": [
    {
     "data": {
      "text/plain": [
       "17"
      ]
     },
     "execution_count": 87,
     "metadata": {},
     "output_type": "execute_result"
    }
   ],
   "source": [
    "# checking duplicating values \n",
    "indian_restaurant.duplicated().sum()"
   ]
  },
  {
   "cell_type": "code",
   "execution_count": 88,
   "metadata": {
    "tags": []
   },
   "outputs": [
    {
     "data": {
      "text/plain": [
       "(1819, 8)"
      ]
     },
     "execution_count": 88,
     "metadata": {},
     "output_type": "execute_result"
    }
   ],
   "source": [
    "indian_restaurant.shape"
   ]
  },
  {
   "cell_type": "code",
   "execution_count": 89,
   "metadata": {
    "tags": []
   },
   "outputs": [
    {
     "data": {
      "text/plain": [
       "(5019, 7)"
      ]
     },
     "execution_count": 89,
     "metadata": {},
     "output_type": "execute_result"
    }
   ],
   "source": [
    "yelp_indian_restaurant.shape"
   ]
  },
  {
   "cell_type": "code",
   "execution_count": 90,
   "metadata": {
    "tags": []
   },
   "outputs": [
    {
     "data": {
      "text/plain": [
       "name             0\n",
       "distance         0\n",
       "address          0\n",
       "telephone        0\n",
       "rating           0\n",
       "review_counts    0\n",
       "closed           0\n",
       "dtype: int64"
      ]
     },
     "execution_count": 90,
     "metadata": {},
     "output_type": "execute_result"
    }
   ],
   "source": [
    "# checking null values\n",
    "yelp_indian_restaurant.isnull().sum()"
   ]
  },
  {
   "cell_type": "markdown",
   "metadata": {},
   "source": [
    "# DataFrame column containing lists, and lists are unhashable types, so Pandas cannot determine whether elements are duplicates.\n",
    "\n",
    "# To handle this, we need to specify a subset of columns to check for duplicates, and we may need to convert the lists to tuples, as tuples are hashable"
   ]
  },
  {
   "cell_type": "code",
   "execution_count": 92,
   "metadata": {
    "tags": []
   },
   "outputs": [],
   "source": [
    "yelp_indian_restaurant['address'] = yelp_indian_restaurant['address'].apply(tuple)\n",
    "\n",
    "# Now you can check for duplicates\n",
    "duplicates = yelp_indian_restaurant.duplicated(subset=['address'])\n",
    "\n",
    "# Count the number of duplicates\n",
    "num_duplicates = duplicates.sum()"
   ]
  },
  {
   "cell_type": "code",
   "execution_count": 93,
   "metadata": {
    "tags": []
   },
   "outputs": [
    {
     "data": {
      "text/plain": [
       "0"
      ]
     },
     "execution_count": 93,
     "metadata": {},
     "output_type": "execute_result"
    }
   ],
   "source": [
    "# checking duplicate values\n",
    "\n",
    "yelp_indian_restaurant.duplicated().sum()"
   ]
  },
  {
   "cell_type": "code",
   "execution_count": null,
   "metadata": {},
   "outputs": [],
   "source": []
  },
  {
   "cell_type": "markdown",
   "metadata": {},
   "source": [
    "Which API provided you with more complete data? Provide an explanation. "
   ]
  },
  {
   "cell_type": "markdown",
   "metadata": {},
   "source": [
    "# Yelp API provided more complete data as mentioned in above steps, There are no null and duplicated value in yelp result, whereas in foursquare there are null results in ratings and telephone numbers,  Yelp provides a greater number of field attributes in its results compared to Foursquare "
   ]
  },
  {
   "cell_type": "markdown",
   "metadata": {},
   "source": [
    "Get the top 10 restaurants according to their rating"
   ]
  },
  {
   "cell_type": "code",
   "execution_count": 95,
   "metadata": {
    "tags": []
   },
   "outputs": [
    {
     "data": {
      "text/html": [
       "<div>\n",
       "<style scoped>\n",
       "    .dataframe tbody tr th:only-of-type {\n",
       "        vertical-align: middle;\n",
       "    }\n",
       "\n",
       "    .dataframe tbody tr th {\n",
       "        vertical-align: top;\n",
       "    }\n",
       "\n",
       "    .dataframe thead th {\n",
       "        text-align: right;\n",
       "    }\n",
       "</style>\n",
       "<table border=\"1\" class=\"dataframe\">\n",
       "  <thead>\n",
       "    <tr style=\"text-align: right;\">\n",
       "      <th></th>\n",
       "      <th>name</th>\n",
       "      <th>distance</th>\n",
       "      <th>address</th>\n",
       "      <th>telephone</th>\n",
       "      <th>rating</th>\n",
       "      <th>open_true</th>\n",
       "    </tr>\n",
       "  </thead>\n",
       "  <tbody>\n",
       "    <tr>\n",
       "      <th>68</th>\n",
       "      <td>Pukka</td>\n",
       "      <td>505</td>\n",
       "      <td>778 St Clair Ave W (at Arlington Ave), Toronto...</td>\n",
       "      <td>(416) 342-1906</td>\n",
       "      <td>9.0</td>\n",
       "      <td>False</td>\n",
       "    </tr>\n",
       "    <tr>\n",
       "      <th>1091</th>\n",
       "      <td>Pukka</td>\n",
       "      <td>913</td>\n",
       "      <td>778 St Clair Ave W (at Arlington Ave), Toronto...</td>\n",
       "      <td>(416) 342-1906</td>\n",
       "      <td>9.0</td>\n",
       "      <td>False</td>\n",
       "    </tr>\n",
       "    <tr>\n",
       "      <th>379</th>\n",
       "      <td>Pukka</td>\n",
       "      <td>869</td>\n",
       "      <td>778 St Clair Ave W (at Arlington Ave), Toronto...</td>\n",
       "      <td>(416) 342-1906</td>\n",
       "      <td>9.0</td>\n",
       "      <td>False</td>\n",
       "    </tr>\n",
       "    <tr>\n",
       "      <th>381</th>\n",
       "      <td>Pukka</td>\n",
       "      <td>879</td>\n",
       "      <td>778 St Clair Ave W (at Arlington Ave), Toronto...</td>\n",
       "      <td>(416) 342-1906</td>\n",
       "      <td>9.0</td>\n",
       "      <td>False</td>\n",
       "    </tr>\n",
       "    <tr>\n",
       "      <th>223</th>\n",
       "      <td>Pukka</td>\n",
       "      <td>363</td>\n",
       "      <td>778 St Clair Ave W (at Arlington Ave), Toronto...</td>\n",
       "      <td>(416) 342-1906</td>\n",
       "      <td>9.0</td>\n",
       "      <td>False</td>\n",
       "    </tr>\n",
       "    <tr>\n",
       "      <th>1279</th>\n",
       "      <td>Pukka</td>\n",
       "      <td>590</td>\n",
       "      <td>778 St Clair Ave W (at Arlington Ave), Toronto...</td>\n",
       "      <td>(416) 342-1906</td>\n",
       "      <td>9.0</td>\n",
       "      <td>False</td>\n",
       "    </tr>\n",
       "    <tr>\n",
       "      <th>873</th>\n",
       "      <td>Pukka</td>\n",
       "      <td>854</td>\n",
       "      <td>778 St Clair Ave W (at Arlington Ave), Toronto...</td>\n",
       "      <td>(416) 342-1906</td>\n",
       "      <td>9.0</td>\n",
       "      <td>False</td>\n",
       "    </tr>\n",
       "    <tr>\n",
       "      <th>787</th>\n",
       "      <td>Pukka</td>\n",
       "      <td>272</td>\n",
       "      <td>778 St Clair Ave W (at Arlington Ave), Toronto...</td>\n",
       "      <td>(416) 342-1906</td>\n",
       "      <td>9.0</td>\n",
       "      <td>False</td>\n",
       "    </tr>\n",
       "    <tr>\n",
       "      <th>1287</th>\n",
       "      <td>Pukka</td>\n",
       "      <td>452</td>\n",
       "      <td>778 St Clair Ave W (at Arlington Ave), Toronto...</td>\n",
       "      <td>(416) 342-1906</td>\n",
       "      <td>9.0</td>\n",
       "      <td>False</td>\n",
       "    </tr>\n",
       "    <tr>\n",
       "      <th>804</th>\n",
       "      <td>Pukka</td>\n",
       "      <td>779</td>\n",
       "      <td>778 St Clair Ave W (at Arlington Ave), Toronto...</td>\n",
       "      <td>(416) 342-1906</td>\n",
       "      <td>9.0</td>\n",
       "      <td>False</td>\n",
       "    </tr>\n",
       "  </tbody>\n",
       "</table>\n",
       "</div>"
      ],
      "text/plain": [
       "       name  distance                                            address  \\\n",
       "68    Pukka       505  778 St Clair Ave W (at Arlington Ave), Toronto...   \n",
       "1091  Pukka       913  778 St Clair Ave W (at Arlington Ave), Toronto...   \n",
       "379   Pukka       869  778 St Clair Ave W (at Arlington Ave), Toronto...   \n",
       "381   Pukka       879  778 St Clair Ave W (at Arlington Ave), Toronto...   \n",
       "223   Pukka       363  778 St Clair Ave W (at Arlington Ave), Toronto...   \n",
       "1279  Pukka       590  778 St Clair Ave W (at Arlington Ave), Toronto...   \n",
       "873   Pukka       854  778 St Clair Ave W (at Arlington Ave), Toronto...   \n",
       "787   Pukka       272  778 St Clair Ave W (at Arlington Ave), Toronto...   \n",
       "1287  Pukka       452  778 St Clair Ave W (at Arlington Ave), Toronto...   \n",
       "804   Pukka       779  778 St Clair Ave W (at Arlington Ave), Toronto...   \n",
       "\n",
       "           telephone  rating  open_true  \n",
       "68    (416) 342-1906     9.0      False  \n",
       "1091  (416) 342-1906     9.0      False  \n",
       "379   (416) 342-1906     9.0      False  \n",
       "381   (416) 342-1906     9.0      False  \n",
       "223   (416) 342-1906     9.0      False  \n",
       "1279  (416) 342-1906     9.0      False  \n",
       "873   (416) 342-1906     9.0      False  \n",
       "787   (416) 342-1906     9.0      False  \n",
       "1287  (416) 342-1906     9.0      False  \n",
       "804   (416) 342-1906     9.0      False  "
      ]
     },
     "execution_count": 95,
     "metadata": {},
     "output_type": "execute_result"
    }
   ],
   "source": [
    "# indian_restaurants foursquare result \n",
    "# indian_restaurant.sort_values(by='rating',ascending=False).head(10)\n",
    "indian_restaurant_result = indian_restaurant.sort_values(by='rating', ascending=False).head(10)[['name', 'distance', 'address', 'telephone', 'rating', 'open_true']]\n",
    "indian_restaurant_result"
   ]
  },
  {
   "cell_type": "markdown",
   "metadata": {},
   "source": [
    "# This is including the duplicates as well. We will keep the duplicated results for now as looking at distance it is duplicating cause the restaurants might be showing for different bike stations."
   ]
  },
  {
   "cell_type": "code",
   "execution_count": 96,
   "metadata": {
    "tags": []
   },
   "outputs": [
    {
     "data": {
      "text/html": [
       "<div>\n",
       "<style scoped>\n",
       "    .dataframe tbody tr th:only-of-type {\n",
       "        vertical-align: middle;\n",
       "    }\n",
       "\n",
       "    .dataframe tbody tr th {\n",
       "        vertical-align: top;\n",
       "    }\n",
       "\n",
       "    .dataframe thead th {\n",
       "        text-align: right;\n",
       "    }\n",
       "</style>\n",
       "<table border=\"1\" class=\"dataframe\">\n",
       "  <thead>\n",
       "    <tr style=\"text-align: right;\">\n",
       "      <th></th>\n",
       "      <th>name</th>\n",
       "      <th>distance</th>\n",
       "      <th>address</th>\n",
       "      <th>telephone</th>\n",
       "      <th>rating</th>\n",
       "      <th>review_counts</th>\n",
       "      <th>closed</th>\n",
       "    </tr>\n",
       "  </thead>\n",
       "  <tbody>\n",
       "    <tr>\n",
       "      <th>2055</th>\n",
       "      <td>Momo Ghar</td>\n",
       "      <td>700.635112</td>\n",
       "      <td>(568 Parliament St, Toronto, ON M4X 1P6, Canada)</td>\n",
       "      <td>+1 416-920-8224</td>\n",
       "      <td>5.0</td>\n",
       "      <td>12</td>\n",
       "      <td>False</td>\n",
       "    </tr>\n",
       "    <tr>\n",
       "      <th>3114</th>\n",
       "      <td>Indraprastha</td>\n",
       "      <td>887.098281</td>\n",
       "      <td>(5 Baldwin Street, Toronto, ON M5T 1L1, Canada)</td>\n",
       "      <td>+1 437-880-8349</td>\n",
       "      <td>5.0</td>\n",
       "      <td>2</td>\n",
       "      <td>False</td>\n",
       "    </tr>\n",
       "    <tr>\n",
       "      <th>4299</th>\n",
       "      <td>Poppadum</td>\n",
       "      <td>1268.706174</td>\n",
       "      <td>(874 Yonge Street, Toronto, ON M4W 2J1, Canada)</td>\n",
       "      <td>+1 647-892-2907</td>\n",
       "      <td>5.0</td>\n",
       "      <td>6</td>\n",
       "      <td>False</td>\n",
       "    </tr>\n",
       "    <tr>\n",
       "      <th>4298</th>\n",
       "      <td>Indraprastha</td>\n",
       "      <td>965.466490</td>\n",
       "      <td>(5 Baldwin Street, Toronto, ON M5T 1L1, Canada)</td>\n",
       "      <td>+1 437-880-8349</td>\n",
       "      <td>5.0</td>\n",
       "      <td>2</td>\n",
       "      <td>False</td>\n",
       "    </tr>\n",
       "    <tr>\n",
       "      <th>475</th>\n",
       "      <td>Indraprastha</td>\n",
       "      <td>880.064700</td>\n",
       "      <td>(5 Baldwin Street, Toronto, ON M5T 1L1, Canada)</td>\n",
       "      <td>+1 437-880-8349</td>\n",
       "      <td>5.0</td>\n",
       "      <td>2</td>\n",
       "      <td>False</td>\n",
       "    </tr>\n",
       "    <tr>\n",
       "      <th>1320</th>\n",
       "      <td>Curry Kitchen + Falafel</td>\n",
       "      <td>867.019064</td>\n",
       "      <td>(139 Dundas Street E, Toronto, ON M5B 2N6, Can...</td>\n",
       "      <td>+1 647-352-8779</td>\n",
       "      <td>5.0</td>\n",
       "      <td>1</td>\n",
       "      <td>False</td>\n",
       "    </tr>\n",
       "    <tr>\n",
       "      <th>3112</th>\n",
       "      <td>Globol Restaurants</td>\n",
       "      <td>328.636640</td>\n",
       "      <td>(60 Carlton Street, Loblaws Maple Leaf Gardens...</td>\n",
       "      <td></td>\n",
       "      <td>5.0</td>\n",
       "      <td>1</td>\n",
       "      <td>False</td>\n",
       "    </tr>\n",
       "    <tr>\n",
       "      <th>1317</th>\n",
       "      <td>Momo Ghar</td>\n",
       "      <td>921.645882</td>\n",
       "      <td>(568 Parliament St, Toronto, ON M4X 1P6, Canada)</td>\n",
       "      <td>+1 416-920-8224</td>\n",
       "      <td>5.0</td>\n",
       "      <td>12</td>\n",
       "      <td>False</td>\n",
       "    </tr>\n",
       "    <tr>\n",
       "      <th>3116</th>\n",
       "      <td>Cucini Xpress</td>\n",
       "      <td>135.740467</td>\n",
       "      <td>(372 Yonge Street, Toronto, ON M5G 2K9, Canada)</td>\n",
       "      <td>+1 416-827-1815</td>\n",
       "      <td>5.0</td>\n",
       "      <td>4</td>\n",
       "      <td>False</td>\n",
       "    </tr>\n",
       "    <tr>\n",
       "      <th>4176</th>\n",
       "      <td>Rikki Tikki</td>\n",
       "      <td>775.647675</td>\n",
       "      <td>(209 Augusta Avenue, Toronto, ON M5T 2L4, Canada)</td>\n",
       "      <td>+1 416-792-3229</td>\n",
       "      <td>5.0</td>\n",
       "      <td>29</td>\n",
       "      <td>False</td>\n",
       "    </tr>\n",
       "  </tbody>\n",
       "</table>\n",
       "</div>"
      ],
      "text/plain": [
       "                         name     distance  \\\n",
       "2055                Momo Ghar   700.635112   \n",
       "3114             Indraprastha   887.098281   \n",
       "4299                 Poppadum  1268.706174   \n",
       "4298             Indraprastha   965.466490   \n",
       "475              Indraprastha   880.064700   \n",
       "1320  Curry Kitchen + Falafel   867.019064   \n",
       "3112       Globol Restaurants   328.636640   \n",
       "1317                Momo Ghar   921.645882   \n",
       "3116            Cucini Xpress   135.740467   \n",
       "4176              Rikki Tikki   775.647675   \n",
       "\n",
       "                                                address        telephone  \\\n",
       "2055   (568 Parliament St, Toronto, ON M4X 1P6, Canada)  +1 416-920-8224   \n",
       "3114    (5 Baldwin Street, Toronto, ON M5T 1L1, Canada)  +1 437-880-8349   \n",
       "4299    (874 Yonge Street, Toronto, ON M4W 2J1, Canada)  +1 647-892-2907   \n",
       "4298    (5 Baldwin Street, Toronto, ON M5T 1L1, Canada)  +1 437-880-8349   \n",
       "475     (5 Baldwin Street, Toronto, ON M5T 1L1, Canada)  +1 437-880-8349   \n",
       "1320  (139 Dundas Street E, Toronto, ON M5B 2N6, Can...  +1 647-352-8779   \n",
       "3112  (60 Carlton Street, Loblaws Maple Leaf Gardens...                    \n",
       "1317   (568 Parliament St, Toronto, ON M4X 1P6, Canada)  +1 416-920-8224   \n",
       "3116    (372 Yonge Street, Toronto, ON M5G 2K9, Canada)  +1 416-827-1815   \n",
       "4176  (209 Augusta Avenue, Toronto, ON M5T 2L4, Canada)  +1 416-792-3229   \n",
       "\n",
       "      rating  review_counts  closed  \n",
       "2055     5.0             12   False  \n",
       "3114     5.0              2   False  \n",
       "4299     5.0              6   False  \n",
       "4298     5.0              2   False  \n",
       "475      5.0              2   False  \n",
       "1320     5.0              1   False  \n",
       "3112     5.0              1   False  \n",
       "1317     5.0             12   False  \n",
       "3116     5.0              4   False  \n",
       "4176     5.0             29   False  "
      ]
     },
     "execution_count": 96,
     "metadata": {},
     "output_type": "execute_result"
    }
   ],
   "source": [
    "# indian restaurant in yelp API\n",
    "yelp_indian_restaurant.sort_values(by='rating', ascending=False).head(10)"
   ]
  },
  {
   "cell_type": "markdown",
   "metadata": {},
   "source": [
    "# Overall, Yelp returns more precise and abundant results than Foursquare.\n",
    "\n",
    "# A limitation of Yelp is its lower API request quota compared to Foursquare. Consequently, extra caution is required in coding to avoid exhausting the allotted number of requests."
   ]
  }
 ],
 "metadata": {
  "kernelspec": {
   "display_name": "Python 3 (ipykernel)",
   "language": "python",
   "name": "python3"
  },
  "language_info": {
   "codemirror_mode": {
    "name": "ipython",
    "version": 3
   },
   "file_extension": ".py",
   "mimetype": "text/x-python",
   "name": "python",
   "nbconvert_exporter": "python",
   "pygments_lexer": "ipython3",
   "version": "3.11.5"
  }
 },
 "nbformat": 4,
 "nbformat_minor": 4
}
